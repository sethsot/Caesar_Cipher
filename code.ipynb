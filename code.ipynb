{
 "cells": [
  {
   "cell_type": "code",
   "execution_count": 10,
   "metadata": {},
   "outputs": [],
   "source": [
    "alphabet = ['a', 'b', 'c', 'd', 'e', 'f', 'g', 'h', 'i', 'j', 'l', 'm', 'n', 'o', 'p', 'q', 'r', 's', 't', 'u', 'v', 'w', 'x', 'y', 'z']"
   ]
  },
  {
   "cell_type": "code",
   "execution_count": 11,
   "metadata": {},
   "outputs": [],
   "source": [
    "direction = input(\"Type 'encode' to encrypt, type 'decode' to decrypt:\\n\").lower()\n",
    "text = input(\"Type your message:\\n\").lower()\n",
    "shift = int(input(\"Type the shift number:\\n\"))"
   ]
  },
  {
   "cell_type": "code",
   "execution_count": 17,
   "metadata": {},
   "outputs": [],
   "source": [
    "def encrypt(original_text, shift_amount):\n",
    "    cipher_text = \"\"\n",
    "\n",
    "    for letter in original_text:\n",
    "        shifted_position = alphabet.index(letter) + shift_amount\n",
    "\n",
    "        shifted_position %= len(alphabet)\n",
    "        cipher_text += alphabet[shifted_position]\n",
    "\n",
    "    print(f\"Here is the encoded result: {cipher_text}\")\n"
   ]
  },
  {
   "cell_type": "code",
   "execution_count": 19,
   "metadata": {},
   "outputs": [],
   "source": [
    "#Create a function called decrypt that takes original_text and shift_amount as 2 inputs\n",
    "def decrypt(original_text, shift_amount):\n",
    "    decipher_text = \"\"\n",
    "    \n",
    "    for letter in original_text:\n",
    "        shifted_position = alphabet.index(letter) - shift_amount\n",
    "\n",
    "        shifted_position %= len(alphabet)\n",
    "        decipher_text += alphabet[shifted_position]\n",
    "    print(f\"Here is the decoded result: {decipher_text}\")\n"
   ]
  },
  {
   "cell_type": "code",
   "execution_count": null,
   "metadata": {},
   "outputs": [],
   "source": []
  },
  {
   "cell_type": "code",
   "execution_count": 18,
   "metadata": {},
   "outputs": [
    {
     "name": "stdout",
     "output_type": "stream",
     "text": [
      "Here is the encoded result: lhoor\n"
     ]
    }
   ],
   "source": [
    "encrypt(original_text=text, shift_amount=shift)"
   ]
  },
  {
   "cell_type": "code",
   "execution_count": 20,
   "metadata": {},
   "outputs": [
    {
     "name": "stdout",
     "output_type": "stream",
     "text": [
      "Here is the decoded result: hello\n"
     ]
    }
   ],
   "source": [
    "decrypt('lhoor',3)"
   ]
  }
 ],
 "metadata": {
  "kernelspec": {
   "display_name": "Python 3",
   "language": "python",
   "name": "python3"
  },
  "language_info": {
   "codemirror_mode": {
    "name": "ipython",
    "version": 3
   },
   "file_extension": ".py",
   "mimetype": "text/x-python",
   "name": "python",
   "nbconvert_exporter": "python",
   "pygments_lexer": "ipython3",
   "version": "3.11.1"
  }
 },
 "nbformat": 4,
 "nbformat_minor": 2
}
